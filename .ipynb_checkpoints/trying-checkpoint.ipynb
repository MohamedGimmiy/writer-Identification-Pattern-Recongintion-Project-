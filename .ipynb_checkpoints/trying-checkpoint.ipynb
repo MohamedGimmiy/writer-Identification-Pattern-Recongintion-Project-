{
 "cells": [
  {
   "cell_type": "code",
   "execution_count": 1,
   "metadata": {},
   "outputs": [],
   "source": [
    "import cv2\n",
    "import numpy as np\n",
    "import matplotlib.pyplot as plt\n"
   ]
  },
  {
   "cell_type": "code",
   "execution_count": 2,
   "metadata": {
    "scrolled": true
   },
   "outputs": [],
   "source": [
    "def draw_image_histogram(image, channels, color='k'):\n",
    "    hist = cv2.calcHist([image], channels, None, [256], [0, 256])\n",
    "    plt.plot(hist, color=color)\n",
    "    plt.xlim([0, 256])\n",
    "\n",
    "def show_grayscale_histogram(image):\n",
    "    grayscale_image = cv2.cvtColor(image, cv2.COLOR_BGR2GRAY)\n",
    "    draw_image_histogram(grayscale_image, [0])\n",
    "    plt.show()"
   ]
  },
  {
   "cell_type": "markdown",
   "metadata": {},
   "source": []
  },
  {
   "cell_type": "code",
   "execution_count": 5,
   "metadata": {},
   "outputs": [
    {
     "name": "stdout",
     "output_type": "stream",
     "text": [
      "[[[2.8110000e+03 1.5707964e+00]]\n",
      "\n",
      " [[2.4560000e+03 0.0000000e+00]]\n",
      "\n",
      " [[3.8200000e+02 1.5707964e+00]]\n",
      "\n",
      " ...\n",
      "\n",
      " [[2.9980000e+03 1.9373155e+00]]\n",
      "\n",
      " [[3.0160000e+03 1.9547688e+00]]\n",
      "\n",
      " [[2.9930000e+03 1.9896753e+00]]]\n",
      "[-1000, 1000]\n"
     ]
    },
    {
     "data": {
      "text/plain": [
       "'\\n#show_grayscale_histogram(img)\\n# convert image to binary image only to be used in feature extration\\n(threshBinary, BinaryImage) = cv2.threshold(im_gray, 128, 255, cv2.THRESH_BINARY | cv2.THRESH_OTSU)\\n\\nhist = cv2.calcHist([BinaryImage],[0],None,[256],[0,256])\\n\\ny, x, _ = plt.hist(hist)\\n'"
      ]
     },
     "execution_count": 5,
     "metadata": {},
     "output_type": "execute_result"
    }
   ],
   "source": [
    "    \n",
    "img = cv2.imread(\"a01-000x.png\")\n",
    "im_gray = cv2.imread(\"a01-000x.png\", cv2.IMREAD_GRAYSCALE)\n",
    "\n",
    "# apply canny edge detection\n",
    "edges = cv2.Canny(im_gray,50,150,apertureSize = 3)\n",
    "\n",
    "# applying hough transform\n",
    "lines = cv2.HoughLines(edges,1,np.pi/180,200)\n",
    "print(lines)\n",
    "listOfHorizontalYs =[]\n",
    "\n",
    "    for i in range (len(lines)):\n",
    "        \n",
    "        r,theta = lines[i].squeeze()\n",
    "        # Stores the value of cos(theta) in a \n",
    "        a = np.cos(theta) \n",
    "        # horizntal line\n",
    "        if a == 1:\n",
    "            # storing only y's of lines\n",
    "            \n",
    "            # Stores the value of sin(theta) in b \n",
    "            b = np.sin(theta) \n",
    "            \n",
    "            # y0 stores the value rsin(theta) \n",
    "            y0 = b*r \n",
    "            \n",
    "            # y1 stores the rounded off value of (rsin(theta)+1000cos(theta)) \n",
    "            listOfHorizontalYs.append(int(y0 + 1000*(a)))  \n",
    "            listOfHorizontalYs.append(int(y0 - 1000*(a)))\n",
    "            \n",
    "# removing duplicates\n",
    "listOfHorizontalYs = list(set(listOfHorizontalYs))\n",
    "\n",
    "# sorting \n",
    "\n",
    "listOfHorizontalYs.sort()\n",
    "print(listOfHorizontalYs)\n",
    "\n",
    "#cv2.line(img,(x1,y1), (x2,y2), (0,0,255),2) \n",
    "#cv2.imwrite('linesDetected.jpg', img) \n",
    "   \n",
    "'''\n",
    "#show_grayscale_histogram(img)\n",
    "    # convert image to binary image only to be used in feature extration\n",
    "(threshBinary, BinaryImage) = cv2.threshold(im_gray, 128, 255, cv2.THRESH_BINARY | cv2.THRESH_OTSU)\n",
    "\n",
    "hist = cv2.calcHist([BinaryImage],[0],None,[256],[0,256])\n",
    "\n",
    "y, x, _ = plt.hist(hist)\n",
    "'''"
   ]
  },
  {
   "cell_type": "code",
   "execution_count": null,
   "metadata": {},
   "outputs": [],
   "source": []
  },
  {
   "cell_type": "code",
   "execution_count": null,
   "metadata": {},
   "outputs": [],
   "source": []
  }
 ],
 "metadata": {
  "kernelspec": {
   "display_name": "Python 3",
   "language": "python",
   "name": "python3"
  },
  "language_info": {
   "codemirror_mode": {
    "name": "ipython",
    "version": 3
   },
   "file_extension": ".py",
   "mimetype": "text/x-python",
   "name": "python",
   "nbconvert_exporter": "python",
   "pygments_lexer": "ipython3",
   "version": "3.6.5"
  }
 },
 "nbformat": 4,
 "nbformat_minor": 2
}
